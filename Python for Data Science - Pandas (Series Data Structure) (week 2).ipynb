{
 "cells": [
  {
   "cell_type": "markdown",
   "metadata": {},
   "source": [
    "# Pandas (Series data structure)"
   ]
  },
  {
   "cell_type": "markdown",
   "metadata": {},
   "source": [
    "Series Data Structure\n",
    "it is one of the core data structure in pandas. You can think of them as a cross between list and dictionary. The items are stored in order and there is labels with which you can retrieve them."
   ]
  },
  {
   "cell_type": "code",
   "execution_count": 5,
   "metadata": {},
   "outputs": [
    {
     "name": "stdout",
     "output_type": "stream",
     "text": [
      "0     amit\n",
      "1    rohit\n",
      "2    sumit\n",
      "3    karan\n",
      "dtype: object\n"
     ]
    }
   ],
   "source": [
    "import pandas as pd\n",
    "#initialting list\n",
    "a=['amit','rohit','sumit','karan']\n",
    "#converting it into series data structure\n",
    "b=pd.Series(a)\n",
    "print(b)\n",
    "#pandas automatically assigns index starting from zero"
   ]
  },
  {
   "cell_type": "markdown",
   "metadata": {},
   "source": [
    "Note:Underneath Pandas store series values in a typed array using numpy library."
   ]
  },
  {
   "cell_type": "code",
   "execution_count": 7,
   "metadata": {},
   "outputs": [
    {
     "name": "stdout",
     "output_type": "stream",
     "text": [
      "0    1.0\n",
      "1    2.0\n",
      "2    NaN\n",
      "dtype: float64\n"
     ]
    }
   ],
   "source": [
    "a=[1,2,None]\n",
    "b=pd.Series(a)\n",
    "print(b)\n",
    "#pandas store None as NaN (Not a number)\n",
    "#NaN is a float underneath, thats why all other integers are also typecasted into float."
   ]
  },
  {
   "cell_type": "markdown",
   "metadata": {},
   "source": [
    "Note: If our Integers in a series gets converted to float, may be there are missing values in the series."
   ]
  },
  {
   "cell_type": "markdown",
   "metadata": {},
   "source": [
    "Creating series from dictionary"
   ]
  },
  {
   "cell_type": "code",
   "execution_count": 18,
   "metadata": {},
   "outputs": [
    {
     "name": "stdout",
     "output_type": "stream",
     "text": [
      "a    1\n",
      "b    2\n",
      "c    3\n",
      "dtype: int64\n",
      "Index(['a', 'b', 'c'], dtype='object')\n"
     ]
    }
   ],
   "source": [
    "#when converting dictionary to series, key will be the index\n",
    "d={'a':1,'b':2, 'c':3}\n",
    "e=pd.Series(d)\n",
    "print(e)\n",
    "\n",
    "#fetching index only\n",
    "print(e.index)"
   ]
  },
  {
   "cell_type": "code",
   "execution_count": 34,
   "metadata": {},
   "outputs": [
    {
     "name": "stdout",
     "output_type": "stream",
     "text": [
      "a    1\n",
      "b    2\n",
      "c    3\n",
      "dtype: int64\n",
      "c    3\n",
      "a    1\n",
      "b    2\n",
      "dtype: int64\n"
     ]
    }
   ],
   "source": [
    "#defining series manually\n",
    "s=pd.Series([1,2,3],index=['a','b','c'])\n",
    "print(s)\n",
    "\n",
    "\n",
    "#changing index explicitly\n",
    "d={'a':1,'b':2, 'c':3}\n",
    "t=pd.Series(d, index=['c','a','b'])\n",
    "print(t)"
   ]
  },
  {
   "cell_type": "markdown",
   "metadata": {},
   "source": [
    "Qyerying a series"
   ]
  },
  {
   "cell_type": "code",
   "execution_count": 37,
   "metadata": {},
   "outputs": [
    {
     "data": {
      "text/plain": [
       "1"
      ]
     },
     "execution_count": 37,
     "metadata": {},
     "output_type": "execute_result"
    }
   ],
   "source": [
    "#querying third entry\n",
    "#using index number (starts with zero)\n",
    "t.iloc[2]\n",
    "\n",
    "#using actual index\n",
    "t.loc['a']"
   ]
  },
  {
   "cell_type": "markdown",
   "metadata": {},
   "source": [
    "Note: iloc and loc are not functions, they are attributes so we use square brackets not parenthesis to query them."
   ]
  },
  {
   "cell_type": "code",
   "execution_count": 40,
   "metadata": {},
   "outputs": [
    {
     "data": {
      "text/plain": [
       "1"
      ]
     },
     "execution_count": 40,
     "metadata": {},
     "output_type": "execute_result"
    }
   ],
   "source": [
    "#other ways of querying\n",
    "#this practices should be avoided. It can cause problem when index are also numbers. Always use iloc and loc\n",
    "t[0]\n",
    "\n",
    "\n",
    "t['a']"
   ]
  },
  {
   "cell_type": "markdown",
   "metadata": {},
   "source": [
    "Working with Data"
   ]
  },
  {
   "cell_type": "code",
   "execution_count": 53,
   "metadata": {},
   "outputs": [
    {
     "name": "stdout",
     "output_type": "stream",
     "text": [
      "20\n"
     ]
    }
   ],
   "source": [
    "grades=pd.Series([20,30,40,50,60,70,70])\n",
    "\n",
    "sum=grades.sum()\n",
    "min=grades.min()\n",
    "max=grades.max()\n",
    "mean=grades.mean()\n",
    "mode=grades.mode()"
   ]
  },
  {
   "cell_type": "code",
   "execution_count": 57,
   "metadata": {},
   "outputs": [
    {
     "name": "stdout",
     "output_type": "stream",
     "text": [
      "0      79\n",
      "1      77\n",
      "2      83\n",
      "3      31\n",
      "4      44\n",
      "       ..\n",
      "145    43\n",
      "146    62\n",
      "147    98\n",
      "148    15\n",
      "149    32\n",
      "Length: 150, dtype: int32\n"
     ]
    }
   ],
   "source": [
    "#defining series with random numbers\n",
    "import numpy as np\n",
    "s=pd.Series(np.random.randint(0,100,150))\n",
    "print(s)"
   ]
  },
  {
   "cell_type": "markdown",
   "metadata": {},
   "source": [
    "Broadcasting: Applying an operation to every value of the series"
   ]
  },
  {
   "cell_type": "code",
   "execution_count": 60,
   "metadata": {},
   "outputs": [
    {
     "name": "stdout",
     "output_type": "stream",
     "text": [
      "0       81\n",
      "1       79\n",
      "2       85\n",
      "3       33\n",
      "4       46\n",
      "      ... \n",
      "145     45\n",
      "146     64\n",
      "147    100\n",
      "148     17\n",
      "149     34\n",
      "Length: 150, dtype: int32\n",
      "0      158\n",
      "1      154\n",
      "2      166\n",
      "3       62\n",
      "4       88\n",
      "      ... \n",
      "145     86\n",
      "146    124\n",
      "147    196\n",
      "148     30\n",
      "149     64\n",
      "Length: 150, dtype: int32\n"
     ]
    }
   ],
   "source": [
    "#adding to all the numbers\n",
    "print(s+2)\n",
    "print(s*2)"
   ]
  },
  {
   "cell_type": "code",
   "execution_count": 61,
   "metadata": {},
   "outputs": [
    {
     "name": "stdout",
     "output_type": "stream",
     "text": [
      "0      1000\n",
      "1        77\n",
      "2        83\n",
      "3        31\n",
      "4        44\n",
      "       ... \n",
      "145      43\n",
      "146      62\n",
      "147      98\n",
      "148      15\n",
      "149      32\n",
      "Length: 150, dtype: int32\n"
     ]
    }
   ],
   "source": [
    "#adding or modifying values using loc iloc attributes\n",
    "s.iloc[0]=1000\n",
    "print(s)"
   ]
  },
  {
   "cell_type": "markdown",
   "metadata": {},
   "source": [
    "Note: when keys are repeated in the series"
   ]
  },
  {
   "cell_type": "code",
   "execution_count": 72,
   "metadata": {
    "scrolled": true
   },
   "outputs": [
    {
     "data": {
      "text/plain": [
       "a    1\n",
       "a    2\n",
       "dtype: int64"
      ]
     },
     "execution_count": 72,
     "metadata": {},
     "output_type": "execute_result"
    }
   ],
   "source": [
    "t=pd.Series([1,2,3],['a','a','c'])\n",
    "t.loc['a']"
   ]
  },
  {
   "cell_type": "markdown",
   "metadata": {},
   "source": [
    "Appending series"
   ]
  },
  {
   "cell_type": "code",
   "execution_count": 74,
   "metadata": {
    "scrolled": true
   },
   "outputs": [
    {
     "name": "stdout",
     "output_type": "stream",
     "text": [
      "a    1\n",
      "a    2\n",
      "c    3\n",
      "d    4\n",
      "e    5\n",
      "f    6\n",
      "dtype: int64\n"
     ]
    }
   ],
   "source": [
    "t=pd.Series([1,2,3],['a','a','c'])\n",
    "q=pd.Series([4,5,6],['d','e','f'])\n",
    "s=t.append(q)\n",
    "print(s)"
   ]
  },
  {
   "cell_type": "markdown",
   "metadata": {},
   "source": [
    "# Series datatype can be used in many ways for series manipulation instead of using conventional for loops."
   ]
  }
 ],
 "metadata": {
  "kernelspec": {
   "display_name": "Python 3",
   "language": "python",
   "name": "python3"
  },
  "language_info": {
   "codemirror_mode": {
    "name": "ipython",
    "version": 3
   },
   "file_extension": ".py",
   "mimetype": "text/x-python",
   "name": "python",
   "nbconvert_exporter": "python",
   "pygments_lexer": "ipython3",
   "version": "3.7.6"
  },
  "toc": {
   "base_numbering": 1,
   "nav_menu": {},
   "number_sections": true,
   "sideBar": true,
   "skip_h1_title": false,
   "title_cell": "Table of Contents",
   "title_sidebar": "Contents",
   "toc_cell": false,
   "toc_position": {},
   "toc_section_display": true,
   "toc_window_display": false
  }
 },
 "nbformat": 4,
 "nbformat_minor": 4
}
