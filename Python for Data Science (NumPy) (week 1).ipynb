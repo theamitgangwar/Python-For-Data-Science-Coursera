{
 "cells": [
  {
   "cell_type": "markdown",
   "metadata": {},
   "source": [
    "# MAP FUNCTION\n",
    "We use map function when we want to iterate a number of inputs from a function."
   ]
  },
  {
   "cell_type": "code",
   "execution_count": 23,
   "metadata": {
    "scrolled": true
   },
   "outputs": [
    {
     "name": "stdout",
     "output_type": "stream",
     "text": [
      "[1, 4, 9, 16]\n"
     ]
    }
   ],
   "source": [
    "#function with one parameter\n",
    "def fun1 (a):\n",
    "    return a*a \n",
    "\n",
    "x=map(fun1, (1,2,3,4))\n",
    "print(list(x))"
   ]
  },
  {
   "cell_type": "code",
   "execution_count": 28,
   "metadata": {
    "scrolled": true
   },
   "outputs": [
    {
     "name": "stdout",
     "output_type": "stream",
     "text": [
      "[3, 5, 7, 11]\n"
     ]
    }
   ],
   "source": [
    "#function with more than one parameter\n",
    "def addition(a,b):\n",
    "    return a+b\n",
    "  \n",
    "# We double all numbers using map()\n",
    "a= (1,2,3,5)\n",
    "b=(2,3,4,6)\n",
    "result = map(addition,a,b)\n",
    "print(list(result))"
   ]
  },
  {
   "cell_type": "code",
   "execution_count": 38,
   "metadata": {},
   "outputs": [
    {
     "name": "stdout",
     "output_type": "stream",
     "text": [
      "[3, 5, 7, 11]\n"
     ]
    }
   ],
   "source": [
    "#function with more than one parameter\n",
    "#using list and tuple for input parameter\n",
    "def addition(a,b):\n",
    "    return a+b\n",
    "  \n",
    "# We double all numbers using map()\n",
    "a= [1,2,3,5]\n",
    "b=(2,3,4,6,4,5,6)\n",
    "result = map(addition,a,b)\n",
    "print(list(result))"
   ]
  },
  {
   "cell_type": "code",
   "execution_count": 39,
   "metadata": {},
   "outputs": [
    {
     "name": "stdout",
     "output_type": "stream",
     "text": [
      "[3, 5, 7, 10, 12]\n"
     ]
    }
   ],
   "source": [
    "#function with more than one parameter\n",
    "#using list and set for input parameter\n",
    "def addition(a,b):\n",
    "    return a+b\n",
    "  \n",
    "# We double all numbers using map()\n",
    "a= [1,2,3,5,6]\n",
    "b={2,3,4,6,4,5,6}\n",
    "result = map(addition,a,b)\n",
    "print(list(result))\n",
    "#since set store on ly unique elements and are unordered, so first 4 and 6 will not be added"
   ]
  },
  {
   "cell_type": "markdown",
   "metadata": {},
   "source": [
    "# Lambda Function\n",
    "Use lambda functions when an anonymous function is required for a short period of time. "
   ]
  },
  {
   "cell_type": "code",
   "execution_count": 40,
   "metadata": {
    "scrolled": true
   },
   "outputs": [
    {
     "name": "stdout",
     "output_type": "stream",
     "text": [
      "5\n"
     ]
    }
   ],
   "source": [
    "func=lambda a,b:a+b\n",
    "print(func(2,3))"
   ]
  },
  {
   "cell_type": "code",
   "execution_count": 42,
   "metadata": {
    "scrolled": true
   },
   "outputs": [
    {
     "name": "stdout",
     "output_type": "stream",
     "text": [
      "5\n"
     ]
    }
   ],
   "source": [
    "func=lambda a,b,c:a+b\n",
    "print(func(2,3,4))"
   ]
  },
  {
   "cell_type": "markdown",
   "metadata": {},
   "source": [
    "# Declaring list in a different way\n",
    "Suppose we want to create a list which contain multiplication of elements of two different lists.\n",
    "Conventional way to do this is using a for loop."
   ]
  },
  {
   "cell_type": "code",
   "execution_count": 46,
   "metadata": {},
   "outputs": [
    {
     "name": "stdout",
     "output_type": "stream",
     "text": [
      "[0, 1, 2, 3, 4, 5, 6, 7, 8, 9]\n"
     ]
    }
   ],
   "source": [
    "l1=[n for n in range (10)]\n",
    "print(l1)"
   ]
  },
  {
   "cell_type": "code",
   "execution_count": 48,
   "metadata": {
    "scrolled": true
   },
   "outputs": [
    {
     "name": "stdout",
     "output_type": "stream",
     "text": [
      "[0, 0, 0, 0, 0, 0, 0, 0, 0, 0, 0, 0, 0, 1, 2, 3, 4, 5, 6, 7, 8, 9, 10, 11, 0, 2, 4, 6, 8, 10, 12, 14, 16, 18, 20, 22, 0, 3, 6, 9, 12, 15, 18, 21, 24, 27, 30, 33, 0, 4, 8, 12, 16, 20, 24, 28, 32, 36, 40, 44, 0, 5, 10, 15, 20, 25, 30, 35, 40, 45, 50, 55, 0, 6, 12, 18, 24, 30, 36, 42, 48, 54, 60, 66, 0, 7, 14, 21, 28, 35, 42, 49, 56, 63, 70, 77, 0, 8, 16, 24, 32, 40, 48, 56, 64, 72, 80, 88, 0, 9, 18, 27, 36, 45, 54, 63, 72, 81, 90, 99]\n"
     ]
    }
   ],
   "source": [
    "l2=[i*j for i in range (10) for j in range (12)]\n",
    "print(l2)"
   ]
  },
  {
   "cell_type": "markdown",
   "metadata": {},
   "source": [
    "# NumPy\n",
    "NumPy is a fundamental package for numeric computing in python.\n",
    "In Python we have lists that serve the purpose of arrays, but they are slow to process.\n",
    "NumPy aims to provide an array object that is up to 50x faster than traditional Python lists.\n",
    "Arrays are very frequently used in data science, where speed and resources are very important."
   ]
  },
  {
   "cell_type": "code",
   "execution_count": 63,
   "metadata": {},
   "outputs": [
    {
     "name": "stdout",
     "output_type": "stream",
     "text": [
      "(2, 3)\n",
      "2\n",
      "int32\n"
     ]
    }
   ],
   "source": [
    "#importing numpy library\n",
    "import numpy as np\n",
    "\n",
    "#declaring array \n",
    "#single dimension \n",
    "a=np.array([1,2,3])\n",
    "#multi dimension \n",
    "b=np.array([[1,2,3],[4,5,6]])\n",
    "\n",
    "#finding shape of array \n",
    "print(b.shape)\n",
    "#finding dimension of array \n",
    "print(b.ndim)\n",
    "#finding datatype of array \n",
    "print(a.dtype)"
   ]
  },
  {
   "cell_type": "code",
   "execution_count": 81,
   "metadata": {
    "scrolled": true
   },
   "outputs": [
    {
     "name": "stdout",
     "output_type": "stream",
     "text": [
      "[[0. 0. 0.]\n",
      " [0. 0. 0.]]\n"
     ]
    }
   ],
   "source": [
    "#creating arrays with initial placeholders \n",
    "#creating arrays with zeroes \n",
    "c=np.zeros([2,3])  \n",
    "print(c)"
   ]
  },
  {
   "cell_type": "code",
   "execution_count": 82,
   "metadata": {},
   "outputs": [
    {
     "name": "stdout",
     "output_type": "stream",
     "text": [
      "[[1. 1. 1. 1.]\n",
      " [1. 1. 1. 1.]\n",
      " [1. 1. 1. 1.]]\n"
     ]
    }
   ],
   "source": [
    "#array with ones  \n",
    "d=np.ones([3,4])\n",
    "print(d) "
   ]
  },
  {
   "cell_type": "code",
   "execution_count": 83,
   "metadata": {},
   "outputs": [
    {
     "name": "stdout",
     "output_type": "stream",
     "text": [
      "[[1.40494575e-01 3.49836601e-01 7.72738350e-01 5.90280132e-01\n",
      "  5.17121920e-01]\n",
      " [1.54124085e-01 8.44215545e-01 7.07626956e-01 7.06976017e-01\n",
      "  1.35347184e-01]\n",
      " [2.21089575e-01 3.21609383e-01 5.87124948e-01 4.62889298e-01\n",
      "  4.05217600e-01]\n",
      " [1.77948867e-01 1.56858625e-04 3.56167893e-01 3.39384290e-01\n",
      "  9.32390867e-01]]\n"
     ]
    }
   ],
   "source": [
    "#array with random numbers \n",
    "e=np.random.rand(4,5)\n",
    "print(e) "
   ]
  },
  {
   "cell_type": "code",
   "execution_count": 84,
   "metadata": {},
   "outputs": [
    {
     "name": "stdout",
     "output_type": "stream",
     "text": [
      "[10 12 14 16 18]\n"
     ]
    }
   ],
   "source": [
    "#array with numbers in range(10 to 20 here) with a jump(2 here) \n",
    "f=np.arange(10,20,2)\n",
    "print(f)"
   ]
  },
  {
   "cell_type": "code",
   "execution_count": 85,
   "metadata": {
    "scrolled": true
   },
   "outputs": [
    {
     "name": "stdout",
     "output_type": "stream",
     "text": [
      "[0.         0.22222222 0.44444444 0.66666667 0.88888889 1.11111111\n",
      " 1.33333333 1.55555556 1.77777778 2.        ]\n"
     ]
    }
   ],
   "source": [
    "#array with number of sequance of floats between two numbers \n",
    "g=np.linspace(0,2,10)\n",
    "print(g) "
   ]
  },
  {
   "cell_type": "markdown",
   "metadata": {},
   "source": [
    "Array Operations"
   ]
  },
  {
   "cell_type": "code",
   "execution_count": 91,
   "metadata": {},
   "outputs": [
    {
     "name": "stdout",
     "output_type": "stream",
     "text": [
      "[[ 9 18 27 36]]\n",
      "[[ 10  40  90 160]]\n",
      "[[11 22 33 44]]\n",
      "[[10. 10. 10. 10.]]\n"
     ]
    }
   ],
   "source": [
    "#Arithmetic operations \n",
    "#shapes have to be same \n",
    "a=np.array([10,20,30,40])\n",
    "b=np.array([[1,2,3,4]])\n",
    "print(a-b)\n",
    "print(a*b)\n",
    "print(a+b) \n",
    "print(a/b) "
   ]
  },
  {
   "cell_type": "code",
   "execution_count": 95,
   "metadata": {},
   "outputs": [
    {
     "name": "stdout",
     "output_type": "stream",
     "text": [
      "[[ 6  8]\n",
      " [10 12]]\n",
      "[[ 5 12]\n",
      " [21 32]]\n",
      "[[19 22]\n",
      " [43 50]]\n"
     ]
    }
   ],
   "source": [
    "#Matrix manipulationa \n",
    "a=np.array([[1,2],[3,4]])\n",
    "b=np.array([[5,6],[7,8]])\n",
    "print(a+b)\n",
    "print(a*b)\n",
    "#matrix multiplication \n",
    "print(a@b)"
   ]
  },
  {
   "cell_type": "code",
   "execution_count": 100,
   "metadata": {
    "scrolled": true
   },
   "outputs": [
    {
     "name": "stdout",
     "output_type": "stream",
     "text": [
      "1\n",
      "4\n",
      "10\n",
      "2.5\n"
     ]
    }
   ],
   "source": [
    "#min max mean etc\n",
    "print(a.min())\n",
    "print(a.max())\n",
    "print(a.sum())\n",
    "print(a.mean())"
   ]
  },
  {
   "cell_type": "code",
   "execution_count": 125,
   "metadata": {},
   "outputs": [
    {
     "name": "stdout",
     "output_type": "stream",
     "text": [
      "[[False False]\n",
      " [False  True]]\n",
      "[[False False]\n",
      " [ True False]]\n"
     ]
    }
   ],
   "source": [
    "#Booloean array \n",
    "a=np.array([[1,2],[3,4]])\n",
    "print(a>3) \n",
    "print(a==3)   "
   ]
  },
  {
   "cell_type": "markdown",
   "metadata": {},
   "source": [
    "Reshaping array"
   ]
  },
  {
   "cell_type": "code",
   "execution_count": 106,
   "metadata": {},
   "outputs": [
    {
     "name": "stdout",
     "output_type": "stream",
     "text": [
      "[[ 1  2  3]\n",
      " [ 4  5  6]\n",
      " [ 7  8  9]\n",
      " [10 11 12]]\n",
      "[[ 0  1  2  3]\n",
      " [ 4  5  6  7]\n",
      " [ 8  9 10 11]\n",
      " [12 13 14 15]]\n"
     ]
    }
   ],
   "source": [
    "arr = np.array([1, 2, 3, 4, 5, 6, 7, 8, 9, 10, 11, 12])\n",
    "newarr = arr.reshape(4, 3)\n",
    "print(newarr)\n",
    "\n",
    "arr2=np.arange(0,16,1).reshape(4,4)\n",
    "print(arr2)"
   ]
  },
  {
   "cell_type": "markdown",
   "metadata": {},
   "source": [
    "Image as array"
   ]
  },
  {
   "cell_type": "code",
   "execution_count": 112,
   "metadata": {},
   "outputs": [
    {
     "data": {
      "image/png": "[encoded data removed]",
      "text/plain": [
       "<PIL.PngImagePlugin.PngImageFile image mode=P size=1052x550 at 0x1B904989048>"
      ]
     },
     "metadata": {},
     "output_type": "display_data"
    }
   ],
   "source": [
    "from PIL import Image\n",
    "from IPython.display import display\n",
    "im=Image.open(\"Downloads/social.png\")\n",
    "display(im) "
   ]
  },
  {
   "cell_type": "code",
   "execution_count": 118,
   "metadata": {
    "scrolled": true
   },
   "outputs": [
    {
     "name": "stdout",
     "output_type": "stream",
     "text": [
      "[[0 0 0 ... 0 0 0]\n",
      " [0 0 0 ... 0 0 0]\n",
      " [0 0 0 ... 0 0 0]\n",
      " ...\n",
      " [0 0 0 ... 0 0 0]\n",
      " [0 0 0 ... 0 0 0]\n",
      " [0 0 0 ... 0 0 0]]\n",
      "[[2 2 2 ... 2 2 2]\n",
      " [2 2 2 ... 2 2 2]\n",
      " [2 2 2 ... 2 2 2]\n",
      " ...\n",
      " [2 2 2 ... 2 2 2]\n",
      " [2 2 2 ... 2 2 2]\n",
      " [2 2 2 ... 2 2 2]]\n"
     ]
    },
    {
     "data": {
      "image/png": "[encoded data removed]",
      "text/plain": [
       "<PIL.Image.Image image mode=L size=1052x550 at 0x1B9046D2248>"
      ]
     },
     "metadata": {},
     "output_type": "display_data"
    }
   ],
   "source": [
    "#elements of array lie between 0(black) t0 255(white) \n",
    "a=np.array(im)\n",
    "print(a)\n",
    "\n",
    "print(a+2)\n",
    "display(Image.fromarray(a-2))"
   ]
  },
  {
   "cell_type": "markdown",
   "metadata": {},
   "source": [
    "Indexing, Slicing and Iterating over array"
   ]
  },
  {
   "cell_type": "code",
   "execution_count": 126,
   "metadata": {},
   "outputs": [
    {
     "name": "stdout",
     "output_type": "stream",
     "text": [
      "[0 5 9]\n"
     ]
    }
   ],
   "source": [
    "#Indexing \n",
    "arr = np.array([1, 2, 3, 4, 5, 6, 7, 8, 9, 10, 11, 12])\n",
    "arr[0]\n",
    "\n",
    "arr2=np.arange(0,16,1).reshape(4,4)\n",
    "arr2[2,3] \n",
    "\n",
    "arr3=np.array(arr2[[0,1,2],[0,1,1]])\n",
    "print(arr3) "
   ]
  },
  {
   "cell_type": "code",
   "execution_count": 128,
   "metadata": {
    "scrolled": true
   },
   "outputs": [
    {
     "name": "stdout",
     "output_type": "stream",
     "text": [
      "[1 2 3]\n"
     ]
    }
   ],
   "source": [
    "#slicing \n",
    "#for 1D array, slicing is same as lists \n",
    "a=np.array([1,2,3,4,5,5,6,7,5])\n",
    "print(a[0:3])"
   ]
  },
  {
   "cell_type": "code",
   "execution_count": 138,
   "metadata": {
    "scrolled": false
   },
   "outputs": [
    {
     "name": "stdout",
     "output_type": "stream",
     "text": [
      "[[ 0  2  4]\n",
      " [ 6  8 10]\n",
      " [12 14 16]\n",
      " [18 20 22]\n",
      " [24 26 28]]\n",
      "[[ 6]\n",
      " [12]]\n"
     ]
    }
   ],
   "source": [
    "#slicing for multidimension array \n",
    "b=np.arange(0,30,2).reshape(5,3) \n",
    "print(b)\n",
    "\n",
    "print(b[1:3,:1]) "
   ]
  },
  {
   "cell_type": "code",
   "execution_count": 144,
   "metadata": {
    "scrolled": true
   },
   "outputs": [
    {
     "name": "stdout",
     "output_type": "stream",
     "text": [
      "[[  0   2   4]\n",
      " [  6   8  10]\n",
      " [ 12  14 500]\n",
      " [ 18  20  22]\n",
      " [ 24  26  28]]\n"
     ]
    }
   ],
   "source": [
    "#Editing values of array \n",
    "b[2,2]=500\n",
    "print(b) "
   ]
  },
  {
   "cell_type": "markdown",
   "metadata": {},
   "source": [
    "NumPy with Datasets"
   ]
  },
  {
   "cell_type": "code",
   "execution_count": 166,
   "metadata": {},
   "outputs": [
    {
     "name": "stdout",
     "output_type": "stream",
     "text": [
      "[[60. 62.]\n",
      " [70. 53.]]\n",
      "[[ 62.   186.     0.97]\n",
      " [ 53.   180.     1.32]\n",
      " [ 50.   152.     1.1 ]\n",
      " [ 40.   152.     1.9 ]]\n"
     ]
    }
   ],
   "source": [
    "from numpy import genfromtxt\n",
    "import csv\n",
    "apple=np.genfromtxt(\"Downloads\\ApplesPears.csv\", delimiter=',', skip_header=1) \n",
    "#print(apple) \n",
    "\n",
    "print(apple[:2,1:3])\n",
    "print(apple[:4,[2,3,4]])"
   ]
  },
  {
   "cell_type": "code",
   "execution_count": 172,
   "metadata": {},
   "outputs": [
    {
     "name": "stdout",
     "output_type": "stream",
     "text": [
      "[(210., 60., 62., 186., 0.97) (220., 70., 53., 180., 1.32)\n",
      " (215., 55., 50., 152., 1.1 ) (180., 76., 40., 152., 1.9 )\n",
      " (220., 68., 45., 153., 1.51) (160., 65., 68., 221., 0.96)\n",
      " (215., 63., 45., 140., 1.4 ) (180., 55., 56., 154., 0.98)\n",
      " (220., 68., 65., 221., 1.05) (190., 60., 58., 174., 1.03)]\n",
      "[210. 220. 215. 180.]\n"
     ]
    }
   ],
   "source": [
    "#giving column name with dataset\n",
    "apple2=np.genfromtxt(\"Downloads\\ApplesPears.csv\", delimiter=',', skip_header=1, names=('a','b','c','d','e'))\n",
    "print(apple2) \n",
    "#fetching data based on column name\n",
    "print(apple2['a'][0:4])\n",
    "\n",
    "print(apple2[a>])"
   ]
  },
  {
   "cell_type": "code",
   "execution_count": 153,
   "metadata": {
    "scrolled": true
   },
   "outputs": [
    {
     "name": "stdout",
     "output_type": "stream",
     "text": [
      "[nan nan nan nan nan nan nan nan nan nan]\n"
     ]
    }
   ],
   "source": []
  }
 ],
 "metadata": {
  "kernelspec": {
   "display_name": "Python 3",
   "language": "python",
   "name": "python3"
  },
  "language_info": {
   "codemirror_mode": {
    "name": "ipython",
    "version": 3
   },
   "file_extension": ".py",
   "mimetype": "text/x-python",
   "name": "python",
   "nbconvert_exporter": "python",
   "pygments_lexer": "ipython3",
   "version": "3.7.6"
  },
  "toc": {
   "base_numbering": 1,
   "nav_menu": {},
   "number_sections": true,
   "sideBar": true,
   "skip_h1_title": false,
   "title_cell": "Table of Contents",
   "title_sidebar": "Contents",
   "toc_cell": false,
   "toc_position": {},
   "toc_section_display": true,
   "toc_window_display": false
  }
 },
 "nbformat": 4,
 "nbformat_minor": 4
}
