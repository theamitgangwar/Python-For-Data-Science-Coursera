{
 "cells": [
  {
   "cell_type": "markdown",
   "metadata": {},
   "source": [
    "# Question 1"
   ]
  },
  {
   "cell_type": "markdown",
   "metadata": {},
   "source": [
    "\n",
    "Question 1\n",
    "Write a function called proportion_of_education which returns the proportion of children in the dataset who had a mother with the education levels equal to less than high school (<12), high school (12), more than high school but not a college graduate (>12) and college degree.\n",
    "\n",
    "This function should return a dictionary in the form of (use the correct numbers, do not round numbers):\n",
    "\n",
    "    {\"less than high school\":0.2,\n",
    "    \"high school\":0.4,\n",
    "    \"more than high school but not college\":0.2,\n",
    "    \"college\":0.2}"
   ]
  },
  {
   "cell_type": "code",
   "execution_count": 124,
   "metadata": {},
   "outputs": [
    {
     "data": {
      "text/plain": [
       "{'less than high school': 0.10202002459160373,\n",
       " 'high school': 0.172352011241876,\n",
       " 'more than high school but not college': 0.24588090637625154,\n",
       " 'college': 0.47974705779026877}"
      ]
     },
     "execution_count": 124,
     "metadata": {},
     "output_type": "execute_result"
    }
   ],
   "source": [
    "import pandas as pd\n",
    "import numpy as np\n",
    "df=pd.read_csv('Downloads/NISPUF17.csv', index_col=0)\n",
    "#df = pd.read_csv('assets/NISPUF17.csv', index_col=0)\n",
    "df.columns=[x.lower().strip() for x in df.columns]\n",
    "#df.head(5)\n",
    "def proportion_of_education():\n",
    "    # your code goes here\n",
    "    # YOUR CODE HERE\n",
    "    #SEQNUMC unique child number\n",
    "    #EDUC1 education of mother\n",
    "    #<12 years\n",
    "    #12 years\n",
    "    #>12 years, not a college graduate\n",
    "    #College graduate\n",
    "    t=df['seqnumc'].count()\n",
    "    #print(count)\n",
    "    #x1=df(['educ1']=1).count()\n",
    "    x1=df[df['educ1'].eq(1)]\n",
    "    c1=x1['seqnumc'].count()\n",
    "    x2=df[df['educ1'].eq(2)]\n",
    "    c2=x2['seqnumc'].count()\n",
    "    x3=df[df['educ1'].eq(3)]\n",
    "    c3=x3['seqnumc'].count()\n",
    "    x4=df[df['educ1'].eq(4)]\n",
    "    c4=x4['seqnumc'].count()\n",
    "    return {\"less than high school\":c1/t,\n",
    "            \"high school\":c2/t,\n",
    "            \"more than high school but not college\":c3/t,\n",
    "            \"college\":c4/t}\n",
    "    raise NotImplementedError()\n",
    "proportion_of_education()"
   ]
  },
  {
   "cell_type": "code",
   "execution_count": 123,
   "metadata": {},
   "outputs": [],
   "source": [
    "assert type(proportion_of_education())==type({}), \"You must return a dictionary.\"\n",
    "assert len(proportion_of_education()) == 4, \"You have not returned a dictionary with four items in it.\"\n",
    "assert \"less than high school\" in proportion_of_education().keys(), \"You have not returned a dictionary with the correct keys.\"\n",
    "assert \"high school\" in proportion_of_education().keys(), \"You have not returned a dictionary with the correct keys.\"\n",
    "assert \"more than high school but not college\" in proportion_of_education().keys(), \"You have not returned a dictionary with the correct keys.\"\n",
    "assert \"college\" in proportion_of_education().keys(), \"You have not returned a dictionary with the correct keys.\"\n"
   ]
  },
  {
   "cell_type": "markdown",
   "metadata": {},
   "source": [
    "# Question 2"
   ]
  },
  {
   "cell_type": "markdown",
   "metadata": {},
   "source": [
    "Let's explore the relationship between being fed breastmilk as a child and getting a seasonal influenza vaccine from a healthcare provider. Return a tuple of the average number of influenza vaccines for those children we know received breastmilk as a child and those who know did not.\n",
    "\n",
    "This function should return a tuple in the form (use the correct numbers:\n",
    "\n",
    "(2.5, 0.1)"
   ]
  },
  {
   "cell_type": "code",
   "execution_count": 143,
   "metadata": {},
   "outputs": [
    {
     "data": {
      "text/plain": [
       "(1.8799, 1.5964)"
      ]
     },
     "execution_count": 143,
     "metadata": {},
     "output_type": "execute_result"
    }
   ],
   "source": [
    "def average_influenza_doses():\n",
    "    # YOUR CODE HERE\n",
    "    cbf_flu=df.loc[:,['cbf_01','p_numflu']]\n",
    "    cbf_flu1=cbf_flu[cbf_flu['cbf_01'] ==1].dropna()\n",
    "    cbf_flu2=cbf_flu[cbf_flu['cbf_01'] ==2].dropna()\n",
    "    \n",
    "    s1=cbf_flu1['p_numflu'].sum()/cbf_flu1['p_numflu'].count()\n",
    "    s2=cbf_flu2['p_numflu'].sum()/cbf_flu2['p_numflu'].count()\n",
    "    \n",
    "    #return((s1,s2))\n",
    "    x=round(s1,4)\n",
    "    y=round(s2,4)\n",
    "    return(x,y)\n",
    "\n",
    "    raise NotImplementedError()\n",
    "average_influenza_doses()"
   ]
  },
  {
   "cell_type": "code",
   "execution_count": 144,
   "metadata": {},
   "outputs": [],
   "source": [
    "assert len(average_influenza_doses())==2, \"Return two values in a tuple, the first for yes and the second for no.\""
   ]
  },
  {
   "cell_type": "markdown",
   "metadata": {},
   "source": [
    "# Question 3"
   ]
  },
  {
   "cell_type": "markdown",
   "metadata": {},
   "source": [
    "It would be interesting to see if there is any evidence of a link between vaccine effectiveness and sex of the child. Calculate the ratio of the number of children who contracted chickenpox but were vaccinated against it (at least one varicella dose) versus those who were vaccinated but did not contract chicken pox. Return results by sex.\n",
    "\n",
    "This function should return a dictionary in the form of (use the correct numbers):\n",
    "\n",
    "    {\"male\":0.2,\n",
    "    \"female\":0.4}\n",
    "Note: To aid in verification, the chickenpox_by_sex()['female'] value the autograder is looking for starts with the digits 0.0077."
   ]
  },
  {
   "cell_type": "code",
   "execution_count": 99,
   "metadata": {},
   "outputs": [
    {
     "data": {
      "text/plain": [
       "{'male': 0.009675583380762664, 'female': 0.0077918259335489565}"
      ]
     },
     "execution_count": 99,
     "metadata": {},
     "output_type": "execute_result"
    }
   ],
   "source": [
    "def chickenpox_by_sex():\n",
    "    # YOUR CODE HERE\n",
    "    \n",
    "    #HAD_CPOX chicken pox\n",
    "    #P_NUMVRC varicella doses\n",
    "    #SEX for gender\n",
    "    \n",
    "    #got vaccinated and still had chicken pox\n",
    "    #male\n",
    "    x1=df[df['had_cpox'].eq(1) & df['sex'].eq(1) & df['p_numvrc'].gt(0)]\n",
    "    c1=x1['seqnumc'].count()\n",
    "\n",
    "    #female\n",
    "    x2=df[df['had_cpox'].eq(1) & df['sex'].eq(2) & df['p_numvrc'].gt(0)]\n",
    "    c2=x2['seqnumc'].count()\n",
    "    \n",
    "    #got vaccinated and didn't had chicken pox\n",
    "    #male\n",
    "    x3=df[df['had_cpox'].eq(2) & df['sex'].eq(1) & df['p_numvrc'].gt(0)]\n",
    "    c3=x3['seqnumc'].count()\n",
    "\n",
    "    #female\n",
    "    x4=df[df['had_cpox'].eq(2) & df['sex'].eq(2) & df['p_numvrc'].gt(0)]\n",
    "    c4=x4['seqnumc'].count()\n",
    "    \n",
    "    return({\"male\":c1/c3,\n",
    "            \"female\":c2/c4})\n",
    "    raise NotImplementedError()\n",
    "#chickenpox_by_sex()"
   ]
  },
  {
   "cell_type": "code",
   "execution_count": 100,
   "metadata": {},
   "outputs": [],
   "source": [
    "assert len(chickenpox_by_sex())==2, \"Return a dictionary with two items, the first for males and the second for females.\""
   ]
  },
  {
   "cell_type": "markdown",
   "metadata": {},
   "source": [
    "# Question 4"
   ]
  },
  {
   "cell_type": "markdown",
   "metadata": {},
   "source": [
    "A correlation is a statistical relationship between two variables. If we wanted to know if vaccines work, we might look at the correlation between the use of the vaccine and whether it results in prevention of the infection or disease [1]. In this question, you are to see if there is a correlation between having had the chicken pox and the number of chickenpox vaccine doses given (varicella).\n",
    "\n",
    "Some notes on interpreting the answer. The had_chickenpox_column is either 1 (for yes) or 2 (for no), and the num_chickenpox_vaccine_column is the number of doses a child has been given of the varicella vaccine. A positive correlation (e.g., corr > 0) means that an increase in had_chickenpox_column (which means more no’s) would also increase the values of num_chickenpox_vaccine_column (which means more doses of vaccine). If there is a negative correlation (e.g., corr < 0), it indicates that having had chickenpox is related to an increase in the number of vaccine doses.\n",
    "\n",
    "Also, pval is the probability that we observe a correlation between had_chickenpox_column and num_chickenpox_vaccine_column which is greater than or equal to a particular value occurred by chance. A small pval means that the observed correlation is highly unlikely to occur by chance. In this case, pval should be very small (will end in e-18 indicating a very small number).\n",
    "\n",
    "[1] This isn’t really the full picture, since we are not looking at when the dose was given. It’s possible that children had chickenpox and then their parents went to get them the vaccine. Does this dataset have the data we would need to investigate the timing of the dose?"
   ]
  },
  {
   "cell_type": "code",
   "execution_count": 131,
   "metadata": {},
   "outputs": [],
   "source": [
    "def corr_chickenpox():\n",
    "    import scipy.stats as stats\n",
    "    import numpy as np\n",
    "    import pandas as pd\n",
    "    \n",
    "    # YOUR CODE HERE\n",
    "    #had chicken pox: HAD_CPOX- 1,2,77,99\n",
    "    #total number of varicella doses: P_NUMVRC- 0,1,2,3,NA\n",
    "    option1 = [1,2]\n",
    "    option2 = [0,1,2,3] \n",
    "    x3=df[df['had_cpox'].isin(option1) & df['p_numvrc'].isin(option2)]\n",
    "    corr, pval=stats.pearsonr(x3[\"had_cpox\"],x3[\"p_numvrc\"])\n",
    "    \n",
    "    # just return the correlation\n",
    "    return corr\n",
    "    raise NotImplementedError()\n",
    "#corr_chickenpox()"
   ]
  },
  {
   "cell_type": "code",
   "execution_count": 118,
   "metadata": {},
   "outputs": [],
   "source": [
    "assert -1<=corr_chickenpox()<=1, \"You must return a float number between -1.0 and 1.0.\""
   ]
  }
 ],
 "metadata": {
  "kernelspec": {
   "display_name": "Python 3",
   "language": "python",
   "name": "python3"
  },
  "language_info": {
   "codemirror_mode": {
    "name": "ipython",
    "version": 3
   },
   "file_extension": ".py",
   "mimetype": "text/x-python",
   "name": "python",
   "nbconvert_exporter": "python",
   "pygments_lexer": "ipython3",
   "version": "3.7.6"
  },
  "toc": {
   "base_numbering": 1,
   "nav_menu": {},
   "number_sections": true,
   "sideBar": true,
   "skip_h1_title": false,
   "title_cell": "Table of Contents",
   "title_sidebar": "Contents",
   "toc_cell": false,
   "toc_position": {},
   "toc_section_display": true,
   "toc_window_display": true
  }
 },
 "nbformat": 4,
 "nbformat_minor": 4
}
