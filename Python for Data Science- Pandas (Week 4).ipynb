{
 "cells": [
  {
   "cell_type": "markdown",
   "metadata": {},
   "source": [
    "# Basic Statistical Testing"
   ]
  },
  {
   "cell_type": "markdown",
   "metadata": {},
   "source": [
    "In this lecture, we're going to review some of the basic statistical testing in Python. We're going to talk about hypothesis testing, statistical significance, and using SciPy to run the student's t-test. We use statistics a lot in different ways in data science, and in this lecture I want to refresh your knowledge of hypothesis testing, which is a core data analysis activity behind experimentation. The goal of hypothesis testing is to determine if for instance the two different conditions we have in an experiment have resulted in different impacts."
   ]
  },
  {
   "cell_type": "code",
   "execution_count": 10,
   "metadata": {},
   "outputs": [],
   "source": [
    "import pandas as pd\n",
    "import numpy as np"
   ]
  },
  {
   "cell_type": "markdown",
   "metadata": {},
   "source": [
    "scipy is an interesting collection of libraries for data science. It includes NumPy and pandas, but also plotting libraries such as Matplotlib and a number of other scientific library functions as well."
   ]
  },
  {
   "cell_type": "code",
   "execution_count": 19,
   "metadata": {
    "scrolled": true
   },
   "outputs": [
    {
     "data": {
      "text/html": [
       "<div>\n",
       "<style scoped>\n",
       "    .dataframe tbody tr th:only-of-type {\n",
       "        vertical-align: middle;\n",
       "    }\n",
       "\n",
       "    .dataframe tbody tr th {\n",
       "        vertical-align: top;\n",
       "    }\n",
       "\n",
       "    .dataframe thead th {\n",
       "        text-align: right;\n",
       "    }\n",
       "</style>\n",
       "<table border=\"1\" class=\"dataframe\">\n",
       "  <thead>\n",
       "    <tr style=\"text-align: right;\">\n",
       "      <th></th>\n",
       "      <th>student_id</th>\n",
       "      <th>assignment1_grade</th>\n",
       "      <th>assignment1_submission</th>\n",
       "      <th>assignment2_grade</th>\n",
       "      <th>assignment2_submission</th>\n",
       "      <th>assignment3_grade</th>\n",
       "      <th>assignment3_submission</th>\n",
       "      <th>assignment4_grade</th>\n",
       "      <th>assignment4_submission</th>\n",
       "      <th>assignment5_grade</th>\n",
       "      <th>assignment5_submission</th>\n",
       "      <th>assignment6_grade</th>\n",
       "      <th>assignment6_submission</th>\n",
       "    </tr>\n",
       "  </thead>\n",
       "  <tbody>\n",
       "    <tr>\n",
       "      <th>0</th>\n",
       "      <td>B73F2C11-70F0-E37D-8B10-1D20AFED50B1</td>\n",
       "      <td>92.733946</td>\n",
       "      <td>02-11-2015 06:55</td>\n",
       "      <td>83.030552</td>\n",
       "      <td>09-11-2015 02:22</td>\n",
       "      <td>67.164441</td>\n",
       "      <td>12-11-2015 08:58</td>\n",
       "      <td>53.011553</td>\n",
       "      <td>16-11-2015 01:21</td>\n",
       "      <td>47.710398</td>\n",
       "      <td>20-11-2015 13:25</td>\n",
       "      <td>38.168318</td>\n",
       "      <td>22-11-2015 18:31</td>\n",
       "    </tr>\n",
       "    <tr>\n",
       "      <th>1</th>\n",
       "      <td>98A0FAE0-A19A-13D2-4BB5-CFBFD94031D1</td>\n",
       "      <td>86.790821</td>\n",
       "      <td>29-11-2015 14:57</td>\n",
       "      <td>86.290821</td>\n",
       "      <td>06-12-2015 17:41</td>\n",
       "      <td>69.772657</td>\n",
       "      <td>10-12-2015 08:54</td>\n",
       "      <td>55.098125</td>\n",
       "      <td>13-12-2015 17:32</td>\n",
       "      <td>49.588313</td>\n",
       "      <td>19-12-2015 23:26</td>\n",
       "      <td>44.629482</td>\n",
       "      <td>21-12-2015 17:07</td>\n",
       "    </tr>\n",
       "    <tr>\n",
       "      <th>2</th>\n",
       "      <td>D0F62040-CEB0-904C-F563-2F8620916C4E</td>\n",
       "      <td>85.512541</td>\n",
       "      <td>09-01-2016 05:36</td>\n",
       "      <td>85.512541</td>\n",
       "      <td>09-01-2016 06:39</td>\n",
       "      <td>68.410033</td>\n",
       "      <td>15-01-2016 20:22</td>\n",
       "      <td>54.728026</td>\n",
       "      <td>11-01-2016 12:41</td>\n",
       "      <td>49.255224</td>\n",
       "      <td>11-01-2016 17:31</td>\n",
       "      <td>44.329701</td>\n",
       "      <td>17-01-2016 16:24</td>\n",
       "    </tr>\n",
       "    <tr>\n",
       "      <th>3</th>\n",
       "      <td>FFDF2B2C-F514-EF7F-6538-A6A53518E9DC</td>\n",
       "      <td>86.030665</td>\n",
       "      <td>30-04-2016 06:50</td>\n",
       "      <td>68.824532</td>\n",
       "      <td>30-04-2016 17:20</td>\n",
       "      <td>61.942079</td>\n",
       "      <td>12-05-2016 07:47</td>\n",
       "      <td>49.553663</td>\n",
       "      <td>07-05-2016 16:09</td>\n",
       "      <td>49.553663</td>\n",
       "      <td>24-05-2016 12:51</td>\n",
       "      <td>44.598297</td>\n",
       "      <td>26-05-2016 08:09</td>\n",
       "    </tr>\n",
       "    <tr>\n",
       "      <th>4</th>\n",
       "      <td>5ECBEEB6-F1CE-80AE-3164-E45E99473FB4</td>\n",
       "      <td>64.813800</td>\n",
       "      <td>13-12-2015 17:06</td>\n",
       "      <td>51.491040</td>\n",
       "      <td>14-12-2015 12:25</td>\n",
       "      <td>41.932832</td>\n",
       "      <td>29-12-2015 14:25</td>\n",
       "      <td>36.929549</td>\n",
       "      <td>28-12-2015 01:29</td>\n",
       "      <td>33.236594</td>\n",
       "      <td>29-12-2015 14:46</td>\n",
       "      <td>33.236594</td>\n",
       "      <td>05-01-2016 01:07</td>\n",
       "    </tr>\n",
       "  </tbody>\n",
       "</table>\n",
       "</div>"
      ],
      "text/plain": [
       "                             student_id  assignment1_grade  \\\n",
       "0  B73F2C11-70F0-E37D-8B10-1D20AFED50B1          92.733946   \n",
       "1  98A0FAE0-A19A-13D2-4BB5-CFBFD94031D1          86.790821   \n",
       "2  D0F62040-CEB0-904C-F563-2F8620916C4E          85.512541   \n",
       "3  FFDF2B2C-F514-EF7F-6538-A6A53518E9DC          86.030665   \n",
       "4  5ECBEEB6-F1CE-80AE-3164-E45E99473FB4          64.813800   \n",
       "\n",
       "  assignment1_submission  assignment2_grade assignment2_submission  \\\n",
       "0       02-11-2015 06:55          83.030552       09-11-2015 02:22   \n",
       "1       29-11-2015 14:57          86.290821       06-12-2015 17:41   \n",
       "2       09-01-2016 05:36          85.512541       09-01-2016 06:39   \n",
       "3       30-04-2016 06:50          68.824532       30-04-2016 17:20   \n",
       "4       13-12-2015 17:06          51.491040       14-12-2015 12:25   \n",
       "\n",
       "   assignment3_grade assignment3_submission  assignment4_grade  \\\n",
       "0          67.164441       12-11-2015 08:58          53.011553   \n",
       "1          69.772657       10-12-2015 08:54          55.098125   \n",
       "2          68.410033       15-01-2016 20:22          54.728026   \n",
       "3          61.942079       12-05-2016 07:47          49.553663   \n",
       "4          41.932832       29-12-2015 14:25          36.929549   \n",
       "\n",
       "  assignment4_submission  assignment5_grade assignment5_submission  \\\n",
       "0       16-11-2015 01:21          47.710398       20-11-2015 13:25   \n",
       "1       13-12-2015 17:32          49.588313       19-12-2015 23:26   \n",
       "2       11-01-2016 12:41          49.255224       11-01-2016 17:31   \n",
       "3       07-05-2016 16:09          49.553663       24-05-2016 12:51   \n",
       "4       28-12-2015 01:29          33.236594       29-12-2015 14:46   \n",
       "\n",
       "   assignment6_grade assignment6_submission  \n",
       "0          38.168318       22-11-2015 18:31  \n",
       "1          44.629482       21-12-2015 17:07  \n",
       "2          44.329701       17-01-2016 16:24  \n",
       "3          44.598297       26-05-2016 08:09  \n",
       "4          33.236594       05-01-2016 01:07  "
      ]
     },
     "execution_count": 19,
     "metadata": {},
     "output_type": "execute_result"
    }
   ],
   "source": [
    "from scipy import stats\n",
    "df=pd.read_csv('Downloads/grades1.csv')\n",
    "df.head()"
   ]
  },
  {
   "cell_type": "code",
   "execution_count": 20,
   "metadata": {},
   "outputs": [
    {
     "name": "stdout",
     "output_type": "stream",
     "text": [
      "there are 2315 rows and 13 columns\n"
     ]
    }
   ],
   "source": [
    "print(\"there are {} rows and {} columns\". format(df.shape[0],df.shape[1]))"
   ]
  },
  {
   "cell_type": "code",
   "execution_count": 40,
   "metadata": {},
   "outputs": [
    {
     "name": "stdout",
     "output_type": "stream",
     "text": [
      "Int64Index([   0,    1,    4,    5,    8,   11,   15,   17,   19,   22,\n",
      "            ...\n",
      "            2294, 2296, 2299, 2304, 2305, 2308, 2309, 2311, 2312, 2314],\n",
      "           dtype='int64', length=1259)\n"
     ]
    }
   ],
   "source": [
    "#Let's say those who finish the first assignment by the end of December 2015, \n",
    "#we'll call them early finishers, and those who finish at sometime after that we'll call them late finishers. \n",
    "\n",
    "early=df[pd.to_datetime(df['assignment1_submission']) < '2016']\n",
    "early.head()\n",
    "print(early.index)"
   ]
  },
  {
   "cell_type": "code",
   "execution_count": 42,
   "metadata": {},
   "outputs": [
    {
     "data": {
      "text/html": [
       "<div>\n",
       "<style scoped>\n",
       "    .dataframe tbody tr th:only-of-type {\n",
       "        vertical-align: middle;\n",
       "    }\n",
       "\n",
       "    .dataframe tbody tr th {\n",
       "        vertical-align: top;\n",
       "    }\n",
       "\n",
       "    .dataframe thead th {\n",
       "        text-align: right;\n",
       "    }\n",
       "</style>\n",
       "<table border=\"1\" class=\"dataframe\">\n",
       "  <thead>\n",
       "    <tr style=\"text-align: right;\">\n",
       "      <th></th>\n",
       "      <th>student_id</th>\n",
       "      <th>assignment1_grade</th>\n",
       "      <th>assignment1_submission</th>\n",
       "      <th>assignment2_grade</th>\n",
       "      <th>assignment2_submission</th>\n",
       "      <th>assignment3_grade</th>\n",
       "      <th>assignment3_submission</th>\n",
       "      <th>assignment4_grade</th>\n",
       "      <th>assignment4_submission</th>\n",
       "      <th>assignment5_grade</th>\n",
       "      <th>assignment5_submission</th>\n",
       "      <th>assignment6_grade</th>\n",
       "      <th>assignment6_submission</th>\n",
       "    </tr>\n",
       "  </thead>\n",
       "  <tbody>\n",
       "    <tr>\n",
       "      <th>2</th>\n",
       "      <td>D0F62040-CEB0-904C-F563-2F8620916C4E</td>\n",
       "      <td>85.512541</td>\n",
       "      <td>09-01-2016 05:36</td>\n",
       "      <td>85.512541</td>\n",
       "      <td>09-01-2016 06:39</td>\n",
       "      <td>68.410033</td>\n",
       "      <td>15-01-2016 20:22</td>\n",
       "      <td>54.728026</td>\n",
       "      <td>11-01-2016 12:41</td>\n",
       "      <td>49.255224</td>\n",
       "      <td>11-01-2016 17:31</td>\n",
       "      <td>44.329701</td>\n",
       "      <td>17-01-2016 16:24</td>\n",
       "    </tr>\n",
       "    <tr>\n",
       "      <th>3</th>\n",
       "      <td>FFDF2B2C-F514-EF7F-6538-A6A53518E9DC</td>\n",
       "      <td>86.030665</td>\n",
       "      <td>30-04-2016 06:50</td>\n",
       "      <td>68.824532</td>\n",
       "      <td>30-04-2016 17:20</td>\n",
       "      <td>61.942079</td>\n",
       "      <td>12-05-2016 07:47</td>\n",
       "      <td>49.553663</td>\n",
       "      <td>07-05-2016 16:09</td>\n",
       "      <td>49.553663</td>\n",
       "      <td>24-05-2016 12:51</td>\n",
       "      <td>44.598297</td>\n",
       "      <td>26-05-2016 08:09</td>\n",
       "    </tr>\n",
       "    <tr>\n",
       "      <th>6</th>\n",
       "      <td>3217BE3F-E4B0-C3B6-9F64-462456819CE4</td>\n",
       "      <td>87.498744</td>\n",
       "      <td>05-03-2016 11:05</td>\n",
       "      <td>69.998995</td>\n",
       "      <td>09-03-2016 07:29</td>\n",
       "      <td>55.999196</td>\n",
       "      <td>16-03-2016 22:31</td>\n",
       "      <td>50.399276</td>\n",
       "      <td>18-03-2016 07:19</td>\n",
       "      <td>45.359349</td>\n",
       "      <td>19-03-2016 10:35</td>\n",
       "      <td>45.359349</td>\n",
       "      <td>23-03-2016 14:02</td>\n",
       "    </tr>\n",
       "    <tr>\n",
       "      <th>7</th>\n",
       "      <td>F1CB5AA1-B3DE-5460-FAFF-BE951FD38B5F</td>\n",
       "      <td>80.576090</td>\n",
       "      <td>24-01-2016 18:24</td>\n",
       "      <td>72.518481</td>\n",
       "      <td>27-01-2016 13:37</td>\n",
       "      <td>65.266633</td>\n",
       "      <td>30-01-2016 14:34</td>\n",
       "      <td>65.266633</td>\n",
       "      <td>03-02-2016 22:08</td>\n",
       "      <td>65.266633</td>\n",
       "      <td>16-02-2016 14:22</td>\n",
       "      <td>65.266633</td>\n",
       "      <td>18-02-2016 08:35</td>\n",
       "    </tr>\n",
       "    <tr>\n",
       "      <th>9</th>\n",
       "      <td>E2C617C2-4654-622C-AB50-1550C4BE42A0</td>\n",
       "      <td>59.270882</td>\n",
       "      <td>06-03-2016 12:06</td>\n",
       "      <td>59.270882</td>\n",
       "      <td>13-03-2016 02:07</td>\n",
       "      <td>53.343794</td>\n",
       "      <td>17-03-2016 07:30</td>\n",
       "      <td>53.343794</td>\n",
       "      <td>20-03-2016 21:45</td>\n",
       "      <td>42.675035</td>\n",
       "      <td>27-03-2016 15:55</td>\n",
       "      <td>38.407532</td>\n",
       "      <td>30-03-2016 20:33</td>\n",
       "    </tr>\n",
       "  </tbody>\n",
       "</table>\n",
       "</div>"
      ],
      "text/plain": [
       "                             student_id  assignment1_grade  \\\n",
       "2  D0F62040-CEB0-904C-F563-2F8620916C4E          85.512541   \n",
       "3  FFDF2B2C-F514-EF7F-6538-A6A53518E9DC          86.030665   \n",
       "6  3217BE3F-E4B0-C3B6-9F64-462456819CE4          87.498744   \n",
       "7  F1CB5AA1-B3DE-5460-FAFF-BE951FD38B5F          80.576090   \n",
       "9  E2C617C2-4654-622C-AB50-1550C4BE42A0          59.270882   \n",
       "\n",
       "  assignment1_submission  assignment2_grade assignment2_submission  \\\n",
       "2       09-01-2016 05:36          85.512541       09-01-2016 06:39   \n",
       "3       30-04-2016 06:50          68.824532       30-04-2016 17:20   \n",
       "6       05-03-2016 11:05          69.998995       09-03-2016 07:29   \n",
       "7       24-01-2016 18:24          72.518481       27-01-2016 13:37   \n",
       "9       06-03-2016 12:06          59.270882       13-03-2016 02:07   \n",
       "\n",
       "   assignment3_grade assignment3_submission  assignment4_grade  \\\n",
       "2          68.410033       15-01-2016 20:22          54.728026   \n",
       "3          61.942079       12-05-2016 07:47          49.553663   \n",
       "6          55.999196       16-03-2016 22:31          50.399276   \n",
       "7          65.266633       30-01-2016 14:34          65.266633   \n",
       "9          53.343794       17-03-2016 07:30          53.343794   \n",
       "\n",
       "  assignment4_submission  assignment5_grade assignment5_submission  \\\n",
       "2       11-01-2016 12:41          49.255224       11-01-2016 17:31   \n",
       "3       07-05-2016 16:09          49.553663       24-05-2016 12:51   \n",
       "6       18-03-2016 07:19          45.359349       19-03-2016 10:35   \n",
       "7       03-02-2016 22:08          65.266633       16-02-2016 14:22   \n",
       "9       20-03-2016 21:45          42.675035       27-03-2016 15:55   \n",
       "\n",
       "   assignment6_grade assignment6_submission  \n",
       "2          44.329701       17-01-2016 16:24  \n",
       "3          44.598297       26-05-2016 08:09  \n",
       "6          45.359349       23-03-2016 14:02  \n",
       "7          65.266633       18-02-2016 08:35  \n",
       "9          38.407532       30-03-2016 20:33  "
      ]
     },
     "execution_count": 42,
     "metadata": {},
     "output_type": "execute_result"
    }
   ],
   "source": [
    "#what all left will be late finishers\n",
    "# boolean_series = ~df.student_id.isin(early['student_id'])\n",
    "# late1 = df[boolean_series]  cant do it on student id because they are not all unique\n",
    "late=df[~df.index.isin(early.index)]\n",
    "late.head()"
   ]
  },
  {
   "cell_type": "code",
   "execution_count": 43,
   "metadata": {},
   "outputs": [
    {
     "name": "stdout",
     "output_type": "stream",
     "text": [
      "74.94728457018276\n",
      "74.04506484775571\n"
     ]
    }
   ],
   "source": [
    "#comparing means for two populations\n",
    "print(early['assignment1_grade'].mean())\n",
    "print(late['assignment1_grade'].mean())"
   ]
  },
  {
   "cell_type": "code",
   "execution_count": 44,
   "metadata": {},
   "outputs": [
    {
     "data": {
      "text/plain": [
       "Ttest_indResult(statistic=1.3223540852266782, pvalue=0.1861810110655527)"
      ]
     },
     "execution_count": 44,
     "metadata": {},
     "output_type": "execute_result"
    }
   ],
   "source": [
    "#When doing hypothesis testing, we have to choose a significance level as a threshold for how much of a \n",
    "#chance we're willing to accept. This significance level is typically called Alpha. For this example, \n",
    "#yet let's use a threshold of 0.05 for our Alpha, which is five percent. Now this is commonly used number \n",
    "#but it's really quite arbitrary.\n",
    "#We're going to use the ttest_ind() function, which does an independent t-test, meaning that the populations \n",
    "#in the two groups are not related to one another. The result of t-ttest_ind() are this t statistic \n",
    "#and the p-value. It's this latter value the probability which is most important to us as it indicates the \n",
    "#chance between zero and one of our null hypothesis being true.\n",
    "\n",
    "from scipy.stats import ttest_ind\n",
    "ttest_ind(early['assignment1_grade'], late['assignment1_grade'])"
   ]
  },
  {
   "cell_type": "code",
   "execution_count": 45,
   "metadata": {
    "scrolled": true
   },
   "outputs": [
    {
     "name": "stdout",
     "output_type": "stream",
     "text": [
      "Ttest_indResult(statistic=1.2514717609598656, pvalue=0.21088896265004953)\n",
      "Ttest_indResult(statistic=1.6133726556911747, pvalue=0.1067999810612257)\n",
      "Ttest_indResult(statistic=0.049671157436252035, pvalue=0.9603887297496588)\n",
      "Ttest_indResult(statistic=-0.05279315520758355, pvalue=0.9579012741710038)\n",
      "Ttest_indResult(statistic=-0.11609743331021136, pvalue=0.9075854013700602)\n"
     ]
    }
   ],
   "source": [
    "#So here we see that the probability is 0.18. This is above our Alpha value of 0.05. \n",
    "#This means that we cannot reject the null hypothesis. \n",
    "#The null hypothesis was that the two populations are the same.\n",
    "\n",
    "#checking for other assignments:\n",
    "print(ttest_ind(early['assignment2_grade'], late['assignment2_grade']))\n",
    "print(ttest_ind(early['assignment3_grade'], late['assignment3_grade']))\n",
    "print(ttest_ind(early['assignment4_grade'], late['assignment4_grade']))\n",
    "print(ttest_ind(early['assignment5_grade'], late['assignment5_grade']))\n",
    "print(ttest_ind(early['assignment6_grade'], late['assignment6_grade']))\n"
   ]
  },
  {
   "cell_type": "code",
   "execution_count": 56,
   "metadata": {},
   "outputs": [
    {
     "data": {
      "text/plain": [
       "(100, 100)"
      ]
     },
     "execution_count": 56,
     "metadata": {},
     "output_type": "execute_result"
    }
   ],
   "source": [
    "#we can see that the p values for all the assignments are more than alpha value of 0.05. so we cannot reject null \n",
    "#hypothesis in any of the cases.\n",
    "\n",
    "#Now, p-values have come under fire recently for being insufficient for telling us enough about the \n",
    "#interactions which are happening and two other techniques confidence intervals and Bayesian analyses \n",
    "#are being used more regularly. One issue with p-values is that as you run more tests you're likely to \n",
    "#get a value which is statistically significant just by chance. So let's see a little simulation of this.\n",
    "\n",
    "df1=pd.DataFrame([np.random.random(100) for x in range (100)])\n",
    "df1.head()\n",
    "df1.shape"
   ]
  },
  {
   "cell_type": "code",
   "execution_count": 58,
   "metadata": {},
   "outputs": [],
   "source": [
    "#lets create another dataframe\n",
    "df2=pd.DataFrame([np.random.random(100) for x in range (100)])\n"
   ]
  },
  {
   "cell_type": "markdown",
   "metadata": {},
   "source": [
    "So are these two DataFrames the same? Maybe a better question is for a given row inside of dF1 is it the same as that same row inside of df2. So let's take a look. Let's say our critical value here is 0.1 or an Alpha of 10 percent. We're going to compare each column in dF1 to the same numbered column in df2 and we'll report when the p-value isn't less than 10 percent, which means that we have sufficient evidence to say that the columns are different."
   ]
  },
  {
   "cell_type": "code",
   "execution_count": 67,
   "metadata": {
    "scrolled": true
   },
   "outputs": [
    {
     "name": "stdout",
     "output_type": "stream",
     "text": [
      "there is significant difference between column 0 with p-value of 0.08653497356846837 and statistics of 1.722530089416434\n",
      "there is significant difference between column 17 with p-value of 0.016754877407367596 and statistics of 2.412509968809497\n",
      "there is significant difference between column 18 with p-value of 0.06562215895465943 and statistics of 1.8512550306454334\n",
      "there is significant difference between column 20 with p-value of 0.026016928676264144 and statistics of -2.2428174796044087\n",
      "there is significant difference between column 24 with p-value of 0.005784827951891145 and statistics of -2.7900645562113175\n",
      "there is significant difference between column 31 with p-value of 0.09797092119659528 and statistics of 1.6626189596984808\n",
      "there is significant difference between column 36 with p-value of 0.048846807313423675 and statistics of -1.9821396584972646\n",
      "there is significant difference between column 60 with p-value of 0.0797106336388247 and statistics of 1.7614208938445446\n",
      "there is significant difference between column 61 with p-value of 0.006319751443677037 and statistics of 2.7601634242413415\n",
      "there is significant difference between column 62 with p-value of 0.09543532891146975 and statistics of -1.6753945951323057\n",
      "there is significant difference between column 70 with p-value of 0.006581966950547492 and statistics of 2.7463361900433343\n",
      "there is significant difference between column 85 with p-value of 0.07937108180729736 and statistics of 1.7634260462766034\n",
      "there is significant difference between column 97 with p-value of 0.019283094808979988 and statistics of 2.359295668703548\n",
      "there are 13 number of columns with significant difference\n"
     ]
    }
   ],
   "source": [
    "def test_col(alpha):\n",
    "    #count of number of col different\n",
    "    col_diff=0\n",
    "    #iterating over columns in df1 and df2\n",
    "    \n",
    "    for col in df1:\n",
    "        statistic, pvalue = ttest_ind(df1[col], df2[col])\n",
    "        if pvalue<alpha:\n",
    "            col_diff=col_diff+1\n",
    "            print(\"there is significant difference between column {} with p-value of {} and statistics of {}\". format(col, pvalue, statistic))\n",
    "            \n",
    "    print(\"there are {} number of columns with significant difference\". format(col_diff))\n",
    "    \n",
    "test_col(0.1)"
   ]
  },
  {
   "cell_type": "code",
   "execution_count": 69,
   "metadata": {
    "scrolled": true
   },
   "outputs": [
    {
     "name": "stdout",
     "output_type": "stream",
     "text": [
      "there is significant difference between column 17 with p-value of 0.016754877407367596 and statistics of 2.412509968809497\n",
      "there is significant difference between column 20 with p-value of 0.026016928676264144 and statistics of -2.2428174796044087\n",
      "there is significant difference between column 24 with p-value of 0.005784827951891145 and statistics of -2.7900645562113175\n",
      "there is significant difference between column 36 with p-value of 0.048846807313423675 and statistics of -1.9821396584972646\n",
      "there is significant difference between column 61 with p-value of 0.006319751443677037 and statistics of 2.7601634242413415\n",
      "there is significant difference between column 70 with p-value of 0.006581966950547492 and statistics of 2.7463361900433343\n",
      "there is significant difference between column 97 with p-value of 0.019283094808979988 and statistics of 2.359295668703548\n",
      "there are 7 number of columns with significant difference\n"
     ]
    }
   ],
   "source": [
    "#lets try for alpha 0.05\n",
    "test_col(0.05)"
   ]
  },
  {
   "cell_type": "markdown",
   "metadata": {},
   "source": [
    "Understand that this p-value isn't magic and it has a threshold for you when reporting results and trying to answer your hypothesis. What's a reasonable threshold? That depends on your question and you need to engage domain experts to better understand what they would consider significant. "
   ]
  },
  {
   "cell_type": "code",
   "execution_count": 72,
   "metadata": {
    "scrolled": true
   },
   "outputs": [
    {
     "name": "stdout",
     "output_type": "stream",
     "text": [
      "there is significant difference between column 0 with p-value of 0.017332111744844395 and statistics of -2.3997646911479746\n",
      "there is significant difference between column 1 with p-value of 0.0003518055131263055 and statistics of -3.636952735569471\n",
      "there is significant difference between column 2 with p-value of 2.420601313697458e-05 and statistics of -4.324576636672871\n",
      "there is significant difference between column 3 with p-value of 0.005325185778819307 and statistics of -2.8178368417754234\n",
      "there is significant difference between column 4 with p-value of 0.0016921614073877832 and statistics of -3.1831160794771822\n",
      "there is significant difference between column 5 with p-value of 0.00024360381055035438 and statistics of -3.736990467896558\n",
      "there is significant difference between column 6 with p-value of 0.0019635114930055177 and statistics of -3.137574829988468\n",
      "there is significant difference between column 7 with p-value of 0.0003495055853094491 and statistics of -3.638756304938291\n",
      "there is significant difference between column 8 with p-value of 1.762998806686182e-05 and statistics of -4.400599176420593\n",
      "there is significant difference between column 9 with p-value of 0.004231122101159734 and statistics of -2.893916497652244\n",
      "there is significant difference between column 10 with p-value of 0.0003672716478926696 and statistics of -3.625105343832724\n",
      "there is significant difference between column 11 with p-value of 0.0004450334259835968 and statistics of -3.5718563964565706\n",
      "there is significant difference between column 12 with p-value of 5.059516957503089e-05 and statistics of -4.143796667709012\n",
      "there is significant difference between column 13 with p-value of 0.002502952984433452 and statistics of -3.0621409356195284\n",
      "there is significant difference between column 14 with p-value of 0.001563250780380847 and statistics of -3.207177100611615\n",
      "there is significant difference between column 15 with p-value of 0.00016406624302743133 and statistics of -3.842354285460509\n",
      "there is significant difference between column 16 with p-value of 0.0030135022207291562 and statistics of -3.003481573602775\n",
      "there is significant difference between column 17 with p-value of 0.00022229353133114725 and statistics of -3.761591694660161\n",
      "there is significant difference between column 18 with p-value of 0.041865300073266984 and statistics of -2.048148498516868\n",
      "there is significant difference between column 19 with p-value of 0.00021283638739095064 and statistics of -3.773232231748172\n",
      "there is significant difference between column 20 with p-value of 0.0014082591083229502 and statistics of -3.238672965172381\n",
      "there is significant difference between column 21 with p-value of 8.601857227147445e-05 and statistics of -4.009925141328609\n",
      "there is significant difference between column 22 with p-value of 0.0001806799585558643 and statistics of -3.81684657108268\n",
      "there is significant difference between column 23 with p-value of 2.390815758330151e-05 and statistics of -4.327564462066839\n",
      "there is significant difference between column 24 with p-value of 0.001106226030437984 and statistics of -3.3106090080254647\n",
      "there is significant difference between column 25 with p-value of 6.480954036488321e-06 and statistics of -4.634507709727452\n",
      "there is significant difference between column 26 with p-value of 0.0002157002991306982 and statistics of -3.7696563039679876\n",
      "there is significant difference between column 27 with p-value of 0.0006738201288171218 and statistics of -3.454717371168326\n",
      "there is significant difference between column 28 with p-value of 0.005180278322518379 and statistics of -2.827045466559674\n",
      "there is significant difference between column 29 with p-value of 1.150719918618056e-05 and statistics of -4.501408246511666\n",
      "there is significant difference between column 30 with p-value of 7.582797002739963e-07 and statistics of -5.109350107240783\n",
      "there is significant difference between column 31 with p-value of 6.662475475942304e-05 and statistics of -4.074784394850229\n",
      "there is significant difference between column 32 with p-value of 0.003640486947111936 and statistics of -2.942840966604721\n",
      "there is significant difference between column 33 with p-value of 0.005822131696847743 and statistics of -2.7878995613974515\n",
      "there is significant difference between column 34 with p-value of 0.002986469878696166 and statistics of -3.0063491502681723\n",
      "there is significant difference between column 35 with p-value of 0.0005207259206816016 and statistics of -3.5278499589992163\n",
      "there is significant difference between column 36 with p-value of 0.002751632440093877 and statistics of -3.0323168165220293\n",
      "there is significant difference between column 37 with p-value of 0.00020720722636590586 and statistics of -3.7803955903202247\n",
      "there is significant difference between column 38 with p-value of 0.00042747421695558604 and statistics of -3.583067966192716\n",
      "there is significant difference between column 39 with p-value of 5.238516017060946e-05 and statistics of -4.135126375553174\n",
      "there is significant difference between column 40 with p-value of 1.2035409008512477e-05 and statistics of -4.490881907869409\n",
      "there is significant difference between column 41 with p-value of 9.724284655319793e-05 and statistics of -3.9785069971247142\n",
      "there is significant difference between column 42 with p-value of 2.3341097865334054e-05 and statistics of -4.333352682399314\n",
      "there is significant difference between column 43 with p-value of 0.0010920784980136336 and statistics of -3.3144110375101903\n",
      "there is significant difference between column 44 with p-value of 0.003023229463743296 and statistics of -3.0024554948075983\n",
      "there is significant difference between column 45 with p-value of 0.0010301247526170536 and statistics of -3.331620546109827\n",
      "there is significant difference between column 46 with p-value of 0.0225706040040235 and statistics of -2.29861770265135\n",
      "there is significant difference between column 47 with p-value of 0.0005144265543499217 and statistics of -3.5312747873499695\n",
      "there is significant difference between column 48 with p-value of 0.0001246912280514689 and statistics of -3.9142351855191806\n",
      "there is significant difference between column 49 with p-value of 4.2543674977724166e-06 and statistics of -4.730348853974687\n",
      "there is significant difference between column 50 with p-value of 7.61805983895042e-05 and statistics of -4.040856333919837\n",
      "there is significant difference between column 51 with p-value of 0.0002845042781861733 and statistics of -3.6949974781607353\n",
      "there is significant difference between column 52 with p-value of 0.000675845443732478 and statistics of -3.453858829914207\n",
      "there is significant difference between column 53 with p-value of 0.00120020739614194 and statistics of -3.28644527979724\n",
      "there is significant difference between column 54 with p-value of 0.004444453383377217 and statistics of -2.877772814633406\n",
      "there is significant difference between column 55 with p-value of 0.001174582996814243 and statistics of -3.292853881704385\n",
      "there is significant difference between column 56 with p-value of 0.00625452934804614 and statistics of -2.7636834487069435\n",
      "there is significant difference between column 57 with p-value of 4.025061333599325e-05 and statistics of -4.200503184228219\n",
      "there is significant difference between column 58 with p-value of 0.00019898358006190757 and statistics of -3.791198772577673\n",
      "there is significant difference between column 59 with p-value of 0.00023054161991431266 and statistics of -3.7518156333162587\n",
      "there is significant difference between column 60 with p-value of 0.0010357553437226657 and statistics of -3.330017171764847\n",
      "there is significant difference between column 61 with p-value of 0.0005412144522981731 and statistics of -3.5169737345305028\n",
      "there is significant difference between column 62 with p-value of 0.03068460020929469 and statistics of -2.176720095304415\n",
      "there is significant difference between column 63 with p-value of 0.0010088585192978958 and statistics of -3.337750992420189\n",
      "there is significant difference between column 64 with p-value of 7.576641107272402e-05 and statistics of -4.04224054557854\n",
      "there is significant difference between column 65 with p-value of 2.8090254583436167e-05 and statistics of -4.288542788023658\n",
      "there is significant difference between column 66 with p-value of 9.311687087232198e-06 and statistics of -4.550820204101411\n",
      "there is significant difference between column 67 with p-value of 0.004005791293986796 and statistics of -2.911797037850283\n",
      "there is significant difference between column 68 with p-value of 0.0046898367894318204 and statistics of -2.8600563367933134\n",
      "there is significant difference between column 69 with p-value of 0.006214397172229231 and statistics of -2.765865956986773\n",
      "there is significant difference between column 70 with p-value of 0.032697949205586455 and statistics of -2.150873013868942\n",
      "there is significant difference between column 71 with p-value of 9.018496363928444e-07 and statistics of -5.072160636162709\n",
      "there is significant difference between column 72 with p-value of 9.573415426756535e-06 and statistics of -4.544372761201596\n",
      "there is significant difference between column 73 with p-value of 0.0022685841969953616 and statistics of -3.0928631823607566\n",
      "there is significant difference between column 74 with p-value of 2.5547466261374157e-06 and statistics of -4.844623140108433\n",
      "there is significant difference between column 75 with p-value of 5.432718970416727e-05 and statistics of -4.126033916232262\n",
      "there is significant difference between column 76 with p-value of 6.165226204473202e-05 and statistics of -4.094322630700201\n",
      "there is significant difference between column 77 with p-value of 0.00041997009820420484 and statistics of -3.587992050532803\n",
      "there is significant difference between column 78 with p-value of 0.0008601745661374972 and statistics of -3.38432572364926\n",
      "there is significant difference between column 79 with p-value of 0.004375047059635455 and statistics of -2.882945920650604\n",
      "there is significant difference between column 80 with p-value of 0.0003220445159920455 and statistics of -3.66120071284574\n",
      "there is significant difference between column 81 with p-value of 0.0003848305307928994 and statistics of -3.612211622042133\n",
      "there is significant difference between column 82 with p-value of 0.032027481135194595 and statistics of -2.1593238414943596\n",
      "there is significant difference between column 83 with p-value of 0.009310740745152287 and statistics of -2.6261512768429367\n",
      "there is significant difference between column 84 with p-value of 0.0007752439243675592 and statistics of -3.4144309859444006\n",
      "there is significant difference between column 85 with p-value of 1.8859033137060725e-06 and statistics of -4.911728074724787\n",
      "there is significant difference between column 86 with p-value of 0.002260790424680063 and statistics of -3.093934360261852\n",
      "there is significant difference between column 87 with p-value of 0.0005734543789576558 and statistics of -3.50061808743069\n",
      "there is significant difference between column 88 with p-value of 0.00011061061371160276 and statistics of -3.945309075335509\n",
      "there is significant difference between column 89 with p-value of 0.007072079942480556 and statistics of -2.721778615302816\n",
      "there is significant difference between column 90 with p-value of 0.02054728163378769 and statistics of -2.334959158607987\n",
      "there is significant difference between column 91 with p-value of 0.000333910768254093 and statistics of -3.651289063791966\n",
      "there is significant difference between column 92 with p-value of 0.0005229968062338101 and statistics of -3.526624862666819\n",
      "there is significant difference between column 93 with p-value of 0.002079998031075071 and statistics of -3.11979105862444\n",
      "there is significant difference between column 94 with p-value of 0.00030078691024813375 and statistics of -3.679850862546811\n",
      "there is significant difference between column 95 with p-value of 0.003976417323307945 and statistics of -2.914195344815716\n",
      "there is significant difference between column 96 with p-value of 5.6290596543700794e-05 and statistics of -4.117151479266111\n",
      "there is significant difference between column 97 with p-value of 0.0021253105362477914 and statistics of -3.113121094482567\n",
      "there is significant difference between column 98 with p-value of 0.005039200803284128 and statistics of -2.8362388435181844\n",
      "there are 99 number of columns with significant difference\n"
     ]
    }
   ],
   "source": [
    "#now lets try for non-normal distribution data, lets choose chi-square distribution\n",
    "df2=pd.DataFrame([np.random.chisquare(df=1,size=100) for x in range (100)])\n",
    "test_col(0.05)"
   ]
  },
  {
   "cell_type": "markdown",
   "metadata": {},
   "source": [
    " In this lecture, we've discussed just some of the basics of hypothesis testing in Python. I introduced you to the SciPy library. Which you can use for the student's t-tests. We've discussed some of the practical issues which arise from looking at statistical significance. Now, there's much more to learn about hypothesis testing. For instance, there are different tests to be used depending on the shape of your data and different ways to report on the results instead of just p values such as confidence intervals or Bayesian analysis."
   ]
  },
  {
   "cell_type": "markdown",
   "metadata": {},
   "source": [
    "# Other forms of structered Data"
   ]
  },
  {
   "cell_type": "markdown",
   "metadata": {},
   "source": [
    "Structures like tabel, graph, tree are representations that we impose on the underlying data. The meaning of the data that we derive from these representations can change based on how we decide to apply a representation. A data scientist needs to be able to interact with a broad array of other stakeholders and as such needs to be able to be flexible with how they conceive of and represent data."
   ]
  }
 ],
 "metadata": {
  "kernelspec": {
   "display_name": "Python 3",
   "language": "python",
   "name": "python3"
  },
  "language_info": {
   "codemirror_mode": {
    "name": "ipython",
    "version": 3
   },
   "file_extension": ".py",
   "mimetype": "text/x-python",
   "name": "python",
   "nbconvert_exporter": "python",
   "pygments_lexer": "ipython3",
   "version": "3.7.6"
  },
  "toc": {
   "base_numbering": 1,
   "nav_menu": {},
   "number_sections": true,
   "sideBar": true,
   "skip_h1_title": false,
   "title_cell": "Table of Contents",
   "title_sidebar": "Contents",
   "toc_cell": false,
   "toc_position": {},
   "toc_section_display": true,
   "toc_window_display": false
  }
 },
 "nbformat": 4,
 "nbformat_minor": 4
}
